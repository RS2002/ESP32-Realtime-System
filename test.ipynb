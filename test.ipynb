{
 "cells": [
  {
   "cell_type": "code",
   "execution_count": 3,
   "metadata": {},
   "outputs": [
    {
     "data": {
      "text/plain": [
       "<All keys matched successfully>"
      ]
     },
     "execution_count": 3,
     "metadata": {},
     "output_type": "execute_result"
    }
   ],
   "source": [
    "import torch\n",
    "from fall_detection_data_driven import SimpleCNN\n",
    "device = torch.device(\"cpu\" if torch.cuda.is_available() else \"cpu\")\n",
    "# 首先创建模型实例\n",
    "model_action = SimpleCNN(3)  # 确保SimpleCNN构造函数调用匹配保存状态时的模型结构\n",
    "\n",
    "# 然后加载状态字典\n",
    "model_path = 'F:\\SRIBD\\ESP32-Realtime-System\\weights.pth'\n",
    "model_action.load_state_dict(torch.load(model_path, map_location=device))\n"
   ]
  },
  {
   "cell_type": "code",
   "execution_count": 25,
   "metadata": {},
   "outputs": [],
   "source": [
    "\n",
    "# 可修改的参数\n",
    "# Reduce displayed waveforms to avoid display freezes\n",
    "CSI_VAID_SUBCARRIER_INTERVAL = 1 # interval越大，有效载波数越少\n",
    "\n",
    "# 默认参数\n",
    "# Remove invalid subcarriers\n",
    "# secondary channel : below, HT, 40 MHz, non STBC, v, HT-LFT: 0~63, -64~-1, 384\n",
    "csi_vaid_subcarrier_index = []\n",
    "csi_vaid_subcarrier_color = []\n",
    "color_step = 255 // (28 // CSI_VAID_SUBCARRIER_INTERVAL + 1)\n",
    "\n",
    "# LLTF: 52\n",
    "csi_vaid_subcarrier_index += [i for i in range(6, 32, CSI_VAID_SUBCARRIER_INTERVAL)]     # 26  red\n",
    "csi_vaid_subcarrier_color += [(i * color_step, 0, 0) for i in range(1,  26 // CSI_VAID_SUBCARRIER_INTERVAL + 2)]\n",
    "csi_vaid_subcarrier_index += [i for i in range(33, 59, CSI_VAID_SUBCARRIER_INTERVAL)]    # 26  green\n",
    "csi_vaid_subcarrier_color += [(0, i * color_step, 0) for i in range(1,  26 // CSI_VAID_SUBCARRIER_INTERVAL + 2)]\n",
    "CSI_DATA_LLFT_COLUMNS = len(csi_vaid_subcarrier_index)\n",
    "# HT-LFT: 56 + 56\n",
    "csi_vaid_subcarrier_index += [i for i in range(66, 94, CSI_VAID_SUBCARRIER_INTERVAL)]    # 28  blue\n",
    "csi_vaid_subcarrier_color += [(0, 0, i * color_step) for i in range(1,  28 // CSI_VAID_SUBCARRIER_INTERVAL + 2)]\n",
    "csi_vaid_subcarrier_index += [i for i in range(95, 123, CSI_VAID_SUBCARRIER_INTERVAL)]   # 28  White\n",
    "csi_vaid_subcarrier_color += [(i * color_step, i * color_step, i * color_step) for i in range(1,  28 // CSI_VAID_SUBCARRIER_INTERVAL + 2)]\n",
    "# csi_vaid_subcarrier_index += [i for i in range(124, 162)]  # 28  White\n",
    "# csi_vaid_subcarrier_index += [i for i in range(163, 191)]  # 28  White\n",
    "\n",
    "CSI_DATA_COLUMNS = len(csi_vaid_subcarrier_index)\n",
    "\n",
    "DATA_COLUMNS_NAMES = [\"type\", \"id\", \"mac\", \"rssi\", \"rate\", \"sig_mode\", \"mcs\", \"bandwidth\", \"smoothing\", \"not_sounding\", \"aggregation\", \"stbc\", \"fec_coding\",\n",
    "                      \"sgi\", \"noise_floor\", \"ampdu_cnt\", \"channel\", \"secondary_channel\", \"local_timestamp\", \"ant\", \"sig_len\", \"rx_state\", \"len\", \"first_word\", \"data\"]\n",
    "\n"
   ]
  },
  {
   "cell_type": "code",
   "execution_count": 61,
   "metadata": {},
   "outputs": [],
   "source": [
    "# Reduce displayed waveforms to avoid display freezes\n",
    "CSI_VAID_SUBCARRIER_INTERVAL = 1\n",
    "\n",
    "# Remove invalid subcarriers\n",
    "# secondary channel : below, HT, 40 MHz, non STBC, v, HT-LFT: 0~63, -64~-1, 384\n",
    "csi_vaid_subcarrier_index = []\n",
    "csi_vaid_subcarrier_color = []\n",
    "color_step = 255 // (28 // CSI_VAID_SUBCARRIER_INTERVAL + 1)\n",
    "\n",
    "# LLTF: 52\n",
    "csi_vaid_subcarrier_index += [i for i in range(6, 32, CSI_VAID_SUBCARRIER_INTERVAL)]     # 26  red\n",
    "csi_vaid_subcarrier_color += [(i * color_step, 0, 0) for i in range(1,  26 // CSI_VAID_SUBCARRIER_INTERVAL + 2)]\n",
    "csi_vaid_subcarrier_index += [i for i in range(33, 59, CSI_VAID_SUBCARRIER_INTERVAL)]    # 26  green\n",
    "csi_vaid_subcarrier_color += [(0, i * color_step, 0) for i in range(1,  26 // CSI_VAID_SUBCARRIER_INTERVAL + 2)]\n",
    "CSI_DATA_LLFT_COLUMNS = len(csi_vaid_subcarrier_index)\n"
   ]
  },
  {
   "cell_type": "code",
   "execution_count": 67,
   "metadata": {},
   "outputs": [],
   "source": [
    "\n",
    "# # HT-LFT: 56 + 56\n",
    "# csi_vaid_subcarrier_index += [i for i in range(66, 94, CSI_VAID_SUBCARRIER_INTERVAL)]    # 28  blue\n",
    "# csi_vaid_subcarrier_color += [(0, 0, i * color_step) for i in range(1,  28 // CSI_VAID_SUBCARRIER_INTERVAL + 2)]\n",
    "# csi_vaid_subcarrier_index += [i for i in range(95, 123, CSI_VAID_SUBCARRIER_INTERVAL)]   # 28  White\n",
    "# csi_vaid_subcarrier_color += [(i * color_step, i * color_step, i * color_step) for i in range(1,  28 // CSI_VAID_SUBCARRIER_INTERVAL + 2)]\n",
    "# # csi_vaid_subcarrier_index += [i for i in range(124, 162)]  # 28  White\n",
    "# # csi_vaid_subcarrier_index += [i for i in range(163, 191)]  # 28  White\n",
    "\n",
    "CSI_DATA_INDEX = 200  # buffer size\n",
    "CSI_DATA_COLUMNS = len(csi_vaid_subcarrier_index)\n",
    "DATA_COLUMNS_NAMES = [\"type\", \"id\", \"mac\", \"rssi\", \"rate\", \"sig_mode\", \"mcs\", \"bandwidth\", \"smoothing\", \"not_sounding\", \"aggregation\", \"stbc\", \"fec_coding\",\n",
    "                      \"sgi\", \"noise_floor\", \"ampdu_cnt\", \"channel\", \"secondary_channel\", \"local_timestamp\", \"ant\", \"sig_len\", \"rx_state\", \"len\", \"first_word\", \"data\"]\n",
    "# csi_data_array = np.zeros(\n",
    "#     [CSI_DATA_INDEX, CSI_DATA_COLUMNS], dtype=np.complex64)\n",
    "import pandas as pd\n",
    "import numpy as np\n",
    "import json\n",
    "\n",
    "# 使用pandas读取CSV文件\n",
    "df = pd.read_csv('F:\\\\SRIBD\\\\ESP32-Realtime-System\\\\fall.csv')\n",
    "\n",
    "# 定义csi_data_array的大小，根据之前的设置\n",
    "CSI_DATA_LLFT_COLUMNS = len(csi_vaid_subcarrier_index)\n",
    "# CSI_DATA_LLFT_COLUMNS = 52\n",
    "csi_data_array = np.zeros([len(df),CSI_DATA_LLFT_COLUMNS], dtype=np.complex64)\n",
    "\n",
    "# 遍历DataFrame中的每一行\n",
    "for index, row in df.iterrows():\n",
    "    # print(index)\n",
    "    csi_string = row['data']  # 假设CSV的列名为'data'，包含CSI数据的JSON字符串\n",
    "    # print(csi_string)\n",
    "    try:\n",
    "        csi_raw_data = json.loads(csi_string)\n",
    "    except json.JSONDecodeError:\n",
    "        print(f\"data is incomplete at row {index}\")\n",
    "        continue\n",
    "    \n",
    "    # 检查CSI数据的长度是否有效\n",
    "    if len(csi_raw_data) not in [128, 256, 384]:\n",
    "        print(f\"element number is not equal: {len(csi_raw_data)} at row {index}\")\n",
    "        continue\n",
    "    \n",
    "    # 根据有效子载波索引提取CSI数据并填充到csi_data_array中\n",
    "    for i in range(CSI_DATA_LLFT_COLUMNS):\n",
    "        # print(True)\n",
    "        csi_data_array[index,i] = complex(csi_raw_data[csi_vaid_subcarrier_index[i] * 2],\n",
    "                                    csi_raw_data[csi_vaid_subcarrier_index[i] * 2 - 1])\n",
    "        # print(complex(csi_raw_data[csi_vaid_subcarrier_index[i] * 2],\n",
    "        #                             csi_raw_data[csi_vaid_subcarrier_index[i] * 2 - 1]))\n",
    "    # 在这里可以对csi_data_array进行进一步处理\n",
    "    # 例如，分析数据，存储到数据库，或者更新显示等\n"
   ]
  }
 ],
 "metadata": {
  "kernelspec": {
   "display_name": "ESP32",
   "language": "python",
   "name": "python3"
  },
  "language_info": {
   "codemirror_mode": {
    "name": "ipython",
    "version": 3
   },
   "file_extension": ".py",
   "mimetype": "text/x-python",
   "name": "python",
   "nbconvert_exporter": "python",
   "pygments_lexer": "ipython3",
   "version": "3.9.18"
  }
 },
 "nbformat": 4,
 "nbformat_minor": 2
}
