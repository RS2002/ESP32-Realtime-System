{
 "cells": [
  {
   "cell_type": "code",
   "execution_count": 13,
   "metadata": {},
   "outputs": [],
   "source": [
    "import os\n",
    "import pandas as pd\n",
    "import numpy as np\n",
    "import pickle\n",
    "from matplotlib import pyplot as plt"
   ]
  },
  {
   "cell_type": "code",
   "execution_count": null,
   "metadata": {},
   "outputs": [],
   "source": [
    "\n",
    "def handle_complex_data(x, valid_indices):\n",
    "    real_parts = []\n",
    "    imag_parts = []\n",
    "    for i in valid_indices:\n",
    "        real_parts.append(x[i * 2])\n",
    "        imag_parts.append(x[i * 2 - 1])\n",
    "    return np.array(real_parts) + 1j * np.array(imag_parts)\n",
    "\n",
    "\n",
    "# 初始化全局字典\n",
    "# 初始化字典\n",
    "global_processed_data = {\n",
    "    'action': [],\n",
    "    'action_id': [],\n",
    "    'complex_data': [],\n",
    "}\n",
    "# 根目录\n",
    "root_folder = '/newhome/sensing/Falldataset_20240225'\n",
    "csi_vaid_subcarrier_index = range(0, 52)\n",
    "\n",
    "\n",
    "# # 遍历ID\n",
    "# volunteer_id = 0\n",
    "# for volunteer in os.listdir(root_folder):\n",
    "#     id_path = os.path.join(root_folder, volunteer)\n",
    "    \n",
    "    # 遍历动作\n",
    "action_id = 0\n",
    "for action in os.listdir(root_folder):\n",
    "    action_path = os.path.join(root_folder, action)\n",
    "    # 检查是否为目录\n",
    "    if os.path.isdir(action_path):\n",
    "    # 遍历CSV文件\n",
    "        for csv_file in os.listdir(action_path):\n",
    "            if csv_file.endswith(\".csv\"):  # 检查文件是否是CSV\n",
    "\n",
    "                csv_path = os.path.join(action_path, csv_file)\n",
    "                \n",
    "                # 读取CSV\n",
    "                # print(csv_path)\n",
    "                df = pd.read_csv(csv_path)\n",
    "                df['data'] = df['data'].apply(lambda x: eval(x))\n",
    "                # 处理数据\n",
    "                complex_data = np.array(df['data'].apply(lambda x: handle_complex_data(x, csi_vaid_subcarrier_index)).tolist())\n",
    "\n",
    "                # 添加到全局字典\n",
    "                # global_processed_data['volunteer'].append(volunteer)\n",
    "                # global_processed_data['volunteer_id'].append(volunteer_id)\n",
    "                global_processed_data['action'].append(action)\n",
    "                global_processed_data['action_id'].append(action_id)\n",
    "                global_processed_data['complex_data'].append(complex_data)\n",
    "\n",
    "        action_id += 1\n",
    "    # volunteer_id += 1\n",
    "# 保存全局字典为一个pickle文件\n",
    "output_file = '/newhome/sensing/Falldataset_20240225/Fall_dataset.pkl'\n",
    "with open(output_file, 'wb') as f:\n",
    "    pickle.dump(global_processed_data, f)"
   ]
  },
  {
   "cell_type": "code",
   "execution_count": 15,
   "metadata": {},
   "outputs": [],
   "source": [
    "from scipy.interpolate import interp1d\n",
    "import numpy as np\n",
    "# 对每个复数数据数组进行插值\n",
    "for i, data in enumerate(dataset['complex_data']):\n",
    "    # 原始的第一维度大小\n",
    "    original_size = data.shape[0]\n",
    "    \n",
    "    # 创建原始和新的插值点\n",
    "    original_points = np.linspace(0, original_size - 1, original_size)\n",
    "    new_points = np.linspace(0, original_size - 1, 100)\n",
    "    \n",
    "    # 初始化插值后的数组\n",
    "    interpolated_data = np.zeros((100, 52), dtype=complex)\n",
    "        # 对每个子载波进行插值\n",
    "    for subcarrier in range(52):\n",
    "        # 分别对实部和虚部进行插值\n",
    "        real_interpolator = interp1d(original_points, data[:, subcarrier].real, kind='linear')\n",
    "        imag_interpolator = interp1d(original_points, data[:, subcarrier].imag, kind='linear')\n",
    "        \n",
    "        # 应用插值并重组为复数\n",
    "        interpolated_data[:, subcarrier] = real_interpolator(new_points) + 1j * imag_interpolator(new_points)\n",
    "    \n",
    "    # 更新插值后的数据\n",
    "    dataset['complex_data'][i] = interpolated_data"
   ]
  },
  {
   "cell_type": "code",
   "execution_count": 29,
   "metadata": {},
   "outputs": [
    {
     "ename": "UnpicklingError",
     "evalue": "A load persistent id instruction was encountered,\nbut no persistent_load function was specified.",
     "output_type": "error",
     "traceback": [
      "\u001b[1;31m---------------------------------------------------------------------------\u001b[0m",
      "\u001b[1;31mUnpicklingError\u001b[0m                           Traceback (most recent call last)",
      "Cell \u001b[1;32mIn[29], line 3\u001b[0m\n\u001b[0;32m      1\u001b[0m \u001b[38;5;66;03m# 读取数据集\u001b[39;00m\n\u001b[0;32m      2\u001b[0m \u001b[38;5;28;01mwith\u001b[39;00m \u001b[38;5;28mopen\u001b[39m(\u001b[38;5;124m'\u001b[39m\u001b[38;5;124mF:\u001b[39m\u001b[38;5;124m\\\u001b[39m\u001b[38;5;124mSRIBD\u001b[39m\u001b[38;5;124m\\\u001b[39m\u001b[38;5;124mESP32-Realtime-System\u001b[39m\u001b[38;5;124m\\\u001b[39m\u001b[38;5;124mFalldataset_20240225\u001b[39m\u001b[38;5;124m\\\u001b[39m\u001b[38;5;124mmodel_20240228_110633.pth\u001b[39m\u001b[38;5;124m'\u001b[39m, \u001b[38;5;124m'\u001b[39m\u001b[38;5;124mrb\u001b[39m\u001b[38;5;124m'\u001b[39m) \u001b[38;5;28;01mas\u001b[39;00m f:\n\u001b[1;32m----> 3\u001b[0m     dataset \u001b[38;5;241m=\u001b[39m \u001b[43mpickle\u001b[49m\u001b[38;5;241;43m.\u001b[39;49m\u001b[43mload\u001b[49m\u001b[43m(\u001b[49m\u001b[43mf\u001b[49m\u001b[43m)\u001b[49m\n\u001b[0;32m      5\u001b[0m \u001b[38;5;28mprint\u001b[39m(dataset\u001b[38;5;241m.\u001b[39mkeys())\n",
      "\u001b[1;31mUnpicklingError\u001b[0m: A load persistent id instruction was encountered,\nbut no persistent_load function was specified."
     ]
    }
   ],
   "source": [
    "\n",
    "# 读取数据集\n",
    "with open('F:\\SRIBD\\ESP32-Realtime-System\\Falldataset_20240225\\model_20240228_110633.pth', 'rb') as f:\n",
    "    dataset = pickle.load(f)\n",
    "\n",
    "print(dataset.keys())"
   ]
  },
  {
   "cell_type": "code",
   "execution_count": 28,
   "metadata": {},
   "outputs": [
    {
     "data": {
      "text/plain": [
       "900"
      ]
     },
     "execution_count": 28,
     "metadata": {},
     "output_type": "execute_result"
    }
   ],
   "source": [
    "len(dataset['data'])"
   ]
  },
  {
   "cell_type": "code",
   "execution_count": null,
   "metadata": {},
   "outputs": [],
   "source": []
  },
  {
   "cell_type": "code",
   "execution_count": 8,
   "metadata": {},
   "outputs": [],
   "source": [
    "data= np.abs(dataset['data'])"
   ]
  },
  {
   "cell_type": "code",
   "execution_count": 17,
   "metadata": {},
   "outputs": [
    {
     "data": {
      "image/png": "[encoded data removed]",
      "text/plain": [
       "<Figure size 432x288 with 1 Axes>"
      ]
     },
     "metadata": {
      "needs_background": "light"
     },
     "output_type": "display_data"
    }
   ],
   "source": [
    "index =200\n",
    "\n",
    "plt.imshow(data[index, :, :].T, cmap='viridis', interpolation='nearest')\n",
    "plt.axis('off')\n",
    "\n",
    "plt.savefig('test.png', bbox_inches='tight')"
   ]
  },
  {
   "cell_type": "code",
   "execution_count": 30,
   "metadata": {},
   "outputs": [],
   "source": [
    "data = {\n",
    "    'action': [],\n",
    "    'action_id': [],\n",
    "    'complex_data': [],\n",
    "}\n",
    "# 可修改的参数\n",
    "# Reduce displayed waveforms to avoid display freezes\n",
    "import json\n",
    "\n",
    "\n",
    "CSI_VAID_SUBCARRIER_INTERVAL = 1 # interval越大，有效载波数越少\n",
    "\n",
    "# 默认参数\n",
    "# Remove invalid subcarriers\n",
    "# secondary channel : below, HT, 40 MHz, non STBC, v, HT-LFT: 0~63, -64~-1, 384\n",
    "csi_vaid_subcarrier_index = []\n",
    "csi_vaid_subcarrier_color = []\n",
    "color_step = 255 // (28 // CSI_VAID_SUBCARRIER_INTERVAL + 1)\n",
    "\n",
    "# LLTF: 52\n",
    "csi_vaid_subcarrier_index += [i for i in range(6, 32, CSI_VAID_SUBCARRIER_INTERVAL)]     # 26  red\n",
    "csi_vaid_subcarrier_color += [(i * color_step, 0, 0) for i in range(1,  26 // CSI_VAID_SUBCARRIER_INTERVAL + 2)]\n",
    "csi_vaid_subcarrier_index += [i for i in range(33, 59, CSI_VAID_SUBCARRIER_INTERVAL)]    # 26  green\n",
    "csi_vaid_subcarrier_color += [(0, i * color_step, 0) for i in range(1,  26 // CSI_VAID_SUBCARRIER_INTERVAL + 2)]\n",
    "CSI_DATA_LLFT_COLUMNS = len(csi_vaid_subcarrier_index)\n",
    "\n",
    "\n",
    "CSI_DATA_COLUMNS = len(csi_vaid_subcarrier_index)\n",
    "\n",
    "DATA_COLUMNS_NAMES = [\"type\", \"id\", \"mac\", \"rssi\", \"rate\", \"sig_mode\", \"mcs\", \"bandwidth\", \"smoothing\", \"not_sounding\", \"aggregation\", \"stbc\", \"fec_coding\",\n",
    "                      \"sgi\", \"noise_floor\", \"ampdu_cnt\", \"channel\", \"secondary_channel\", \"local_timestamp\", \"ant\", \"sig_len\", \"rx_state\", \"len\", \"first_word\", \"data\"]\n",
    "\n",
    "# Reduce displayed waveforms to avoid display freezes\n",
    "CSI_VAID_SUBCARRIER_INTERVAL = 1\n",
    "\n",
    "# Remove invalid subcarriers\n",
    "# secondary channel : below, HT, 40 MHz, non STBC, v, HT-LFT: 0~63, -64~-1, 384\n",
    "csi_vaid_subcarrier_index = []\n",
    "csi_vaid_subcarrier_color = []\n",
    "color_step = 255 // (28 // CSI_VAID_SUBCARRIER_INTERVAL + 1)\n",
    "\n",
    "# LLTF: 52\n",
    "csi_vaid_subcarrier_index += [i for i in range(6, 32, CSI_VAID_SUBCARRIER_INTERVAL)]     # 26  red\n",
    "csi_vaid_subcarrier_color += [(i * color_step, 0, 0) for i in range(1,  26 // CSI_VAID_SUBCARRIER_INTERVAL + 2)]\n",
    "csi_vaid_subcarrier_index += [i for i in range(33, 59, CSI_VAID_SUBCARRIER_INTERVAL)]    # 26  green\n",
    "csi_vaid_subcarrier_color += [(0, i * color_step, 0) for i in range(1,  26 // CSI_VAID_SUBCARRIER_INTERVAL + 2)]\n",
    "CSI_DATA_LLFT_COLUMNS = len(csi_vaid_subcarrier_index)\n"
   ]
  },
  {
   "cell_type": "code",
   "execution_count": 8,
   "metadata": {},
   "outputs": [],
   "source": [
    "import pandas as pd\n",
    "import numpy as np\n",
    "import json\n",
    "import pickle\n",
    "\n",
    "def process_csv_to_csi_array(file_path, csi_vaid_subcarrier_index):\n",
    "    df = pd.read_csv(file_path)\n",
    "    csi_data_array = np.zeros([len(df), len(csi_vaid_subcarrier_index)], dtype=np.complex64)\n",
    "    \n",
    "    for index, row in df.iterrows():\n",
    "        csi_string = row['data']\n",
    "        try:\n",
    "            csi_raw_data = json.loads(csi_string)\n",
    "        except json.JSONDecodeError:\n",
    "            continue\n",
    "        \n",
    "        if len(csi_raw_data) not in [128, 256, 384]:\n",
    "            continue\n",
    "        \n",
    "        for i in range(len(csi_vaid_subcarrier_index)):\n",
    "            csi_data_array[index, i] = complex(csi_raw_data[csi_vaid_subcarrier_index[i] * 2],\n",
    "                                               csi_raw_data[csi_vaid_subcarrier_index[i] * 2 - 1])\n",
    "    \n",
    "    # 重塑并忽略超出部分\n",
    "    num_complete_batches = csi_data_array.shape[0] // 100\n",
    "    reshaped_data = csi_data_array[:num_complete_batches * 100].reshape(-1, 100, len(csi_vaid_subcarrier_index))\n",
    "    reshaped_data = reshaped_data[:, np.newaxis, :, :]\n",
    "    \n",
    "    return reshaped_data\n",
    "\n",
    "# 初始化数据和标签容器\n",
    "data_list = []\n",
    "action_ids = []\n",
    "\n",
    "# 处理每个文件\n",
    "for action_id, file_name in enumerate(['./dataset/fall2.csv', './dataset/sit2.csv', './dataset/walk2.csv']):\n",
    "    file_path = f'/newhome/sensing/Falldataset_20240225/{file_name}'\n",
    "    reshaped_data = process_csv_to_csi_array(file_path, csi_vaid_subcarrier_index)\n",
    "    data_list.append(reshaped_data)\n",
    "    action_ids.extend([action_id] * len(reshaped_data))\n",
    "\n",
    "# 合并数据和标签\n",
    "all_data = np.concatenate(data_list, axis=0)\n",
    "all_action_ids = np.array(action_ids)\n",
    "\n",
    "# 保存为pickle文件\n",
    "with open('/newhome/sensing/Falldataset_20240225/csi_data_with_labels2.pkl', 'wb') as f:\n",
    "    pickle.dump({'data': all_data, 'action_ids': all_action_ids}, f)"
   ]
  },
  {
   "cell_type": "code",
   "execution_count": 40,
   "metadata": {},
   "outputs": [],
   "source": [
    "import pandas as pd\n",
    "import numpy as np\n",
    "import json\n",
    "import pickle\n",
    "\n",
    "def process_csv_to_csi_array(file_path, csi_vaid_subcarrier_index):\n",
    "    df = pd.read_csv(file_path)\n",
    "    csi_data_array = np.zeros([len(df), len(csi_vaid_subcarrier_index)], dtype=np.complex64)\n",
    "    \n",
    "    for index, row in df.iterrows():\n",
    "        csi_string = row['data']\n",
    "        try:\n",
    "            csi_raw_data = json.loads(csi_string)\n",
    "        except json.JSONDecodeError:\n",
    "            continue\n",
    "        \n",
    "        if len(csi_raw_data) not in [128, 256, 384]:\n",
    "            continue\n",
    "        \n",
    "        for i in range(len(csi_vaid_subcarrier_index)):\n",
    "            csi_data_array[index, i] = complex(csi_raw_data[csi_vaid_subcarrier_index[i] * 2],\n",
    "                                               csi_raw_data[csi_vaid_subcarrier_index[i] * 2 - 1])\n",
    "    \n",
    "    # 重塑并忽略超出部分\n",
    "    num_complete_batches = csi_data_array.shape[0] // 100\n",
    "    reshaped_data = csi_data_array[:num_complete_batches * 100].reshape(-1, 100, len(csi_vaid_subcarrier_index))\n",
    "    reshaped_data = reshaped_data[:, np.newaxis, :, :]\n",
    "    \n",
    "    return reshaped_data\n",
    "\n",
    "# 初始化数据和标签容器\n",
    "data_list = []\n",
    "action_ids = []\n",
    "\n",
    "# 处理每个文件\n",
    "# for file_name in enumerate(['./dataset/walk2.csv']):\n",
    "file_path = 'F:\\SRIBD\\ESP32-Realtime-System\\Falldataset_20240225\\walk.csv'\n",
    "reshaped_data = process_csv_to_csi_array(file_path, csi_vaid_subcarrier_index)\n",
    "data_list.append(reshaped_data)\n",
    "action_ids.extend([2] * len(reshaped_data))\n",
    "\n",
    "# 合并数据和标签\n",
    "all_data = np.concatenate(data_list, axis=0)\n",
    "all_action_ids = np.array(action_ids)\n",
    "\n",
    "# 保存为pickle文件\n",
    "with open('F:\\SRIBD\\ESP32-Realtime-System\\Falldataset_20240225\\walk.pkl', 'wb') as f:\n",
    "    pickle.dump({'data': all_data, 'action_ids': all_action_ids}, f)"
   ]
  },
  {
   "cell_type": "code",
   "execution_count": 22,
   "metadata": {},
   "outputs": [],
   "source": [
    "# 保存全局字典为一个pickle文件\n",
    "output_file = '/newhome/sensing/Falldataset_20240225/Fall_dataset_interp1d.pkl'\n",
    "with open(output_file, 'wb') as f:\n",
    "    pickle.dump(dataset, f)"
   ]
  },
  {
   "cell_type": "code",
   "execution_count": 12,
   "metadata": {},
   "outputs": [
    {
     "name": "stdout",
     "output_type": "stream",
     "text": [
      "123\n"
     ]
    }
   ],
   "source": [
    "count=0\n",
    "for i in range(len(dataset['complex_data'])):\n",
    "\n",
    "    if dataset['complex_data'][i].shape[0]<80:\n",
    "        count +=1\n",
    "print(count)"
   ]
  },
  {
   "cell_type": "code",
   "execution_count": 32,
   "metadata": {},
   "outputs": [],
   "source": [
    "import torch\n",
    "from torch.utils.data import TensorDataset, DataLoader\n",
    "from sklearn.model_selection import train_test_split\n",
    "\n",
    "# 假设 complex_data_array 是形状为 (N, 100, 52, 2) 的NumPy数组\n",
    "# actions_ids 是形状为 (N,) 的NumPy数组，包含每个样本的标签\n",
    "\n",
    "# 数据集分割\n",
    "X_train, X_test, y_train, y_test = train_test_split(np.abs(dataset['complex_data'])[:,np.newaxis,:,:], dataset['action_id'], test_size=0.2, random_state=42)\n",
    "\n",
    "# 转换为PyTorch张量\n",
    "X_train_tensor = torch.tensor(X_train, dtype=torch.float32)\n",
    "y_train_tensor = torch.tensor(y_train, dtype=torch.long)\n",
    "X_test_tensor = torch.tensor(X_test, dtype=torch.float32)\n",
    "y_test_tensor = torch.tensor(y_test, dtype=torch.long)\n",
    "\n",
    "# 创建数据加载器\n",
    "train_dataset = TensorDataset(X_train_tensor, y_train_tensor)\n",
    "test_dataset = TensorDataset(X_test_tensor, y_test_tensor)\n",
    "\n",
    "train_loader = DataLoader(train_dataset, batch_size=64, shuffle=True)\n",
    "test_loader = DataLoader(test_dataset, batch_size=64, shuffle=False)\n"
   ]
  },
  {
   "cell_type": "code",
   "execution_count": 36,
   "metadata": {},
   "outputs": [],
   "source": [
    "import torch.nn as nn\n",
    "import torch.nn.functional as F\n",
    "\n",
    "class SimpleCNN(nn.Module):\n",
    "    def __init__(self):\n",
    "        super(SimpleCNN, self).__init__()\n",
    "        self.conv1 = nn.Conv2d(1, 32, kernel_size=3, padding=1)  # 输入通道为2，表示实部和虚部\n",
    "        self.pool = nn.MaxPool2d(2, 2)\n",
    "        self.conv2 = nn.Conv2d(32, 64, kernel_size=3, padding=1)\n",
    "        self.fc1 = nn.Linear(64 * 25 * 13, 512)  # 根据池化层的输出调整\n",
    "        self.fc2 = nn.Linear(512, len(set(global_processed_data['action_id'])))  # 输出层大小为类别数\n",
    "\n",
    "    def forward(self, x):\n",
    "        x = self.pool(F.relu(self.conv1(x)))\n",
    "        x = self.pool(F.relu(self.conv2(x)))\n",
    "        x = x.view(-1, 64 * 25 * 13)  # 根据池化层的输出调整\n",
    "        x = F.relu(self.fc1(x))\n",
    "        x = self.fc2(x)\n",
    "        return x\n",
    "\n",
    "import torch.optim as optim\n",
    "\n",
    "# 实例化模型、定义损失函数和优化器\n",
    "model = SimpleCNN()\n",
    "criterion = nn.CrossEntropyLoss()\n",
    "optimizer = optim.Adam(model.parameters(), lr=0.001)\n",
    "\n",
    "# 训练模型\n",
    "num_epochs = 10\n",
    "for epoch in range(num_epochs):\n",
    "    for inputs, labels in train_loader:\n",
    "        optimizer.zero_grad()\n",
    "        outputs = model(inputs)\n",
    "        loss = criterion(outputs, labels)\n",
    "        loss.backward()\n",
    "        optimizer.step()\n",
    "    print(f'Epoch {epoch+1}, Loss: {loss.item()}')\n",
    "    \n",
    "# 测试模型\n",
    "# 这里添加测试模型的代码\n"
   ]
  }
 ],
 "metadata": {
  "kernelspec": {
   "display_name": "falldetection",
   "language": "python",
   "name": "python3"
  },
  "language_info": {
   "codemirror_mode": {
    "name": "ipython",
    "version": 3
   },
   "file_extension": ".py",
   "mimetype": "text/x-python",
   "name": "python",
   "nbconvert_exporter": "python",
   "pygments_lexer": "ipython3",
   "version": "3.9.18"
  }
 },
 "nbformat": 4,
 "nbformat_minor": 2
}
